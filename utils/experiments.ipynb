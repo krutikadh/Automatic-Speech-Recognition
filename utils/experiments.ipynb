{
 "cells": [
  {
   "cell_type": "code",
   "execution_count": 1,
   "id": "4e97556c",
   "metadata": {},
   "outputs": [],
   "source": [
    "import matplotlib.pyplot as plt\n",
    "import os\n",
    "from scipy.io import wavfile\n",
    "from collections import defaultdict, Counter\n",
    "from scipy import signal\n",
    "import numpy as np\n",
    "import librosa\n",
    "import random as rn\n",
    "from keras.layers import Dense\n",
    "from keras import Input\n",
    "from keras.engine import Model\n",
    "from keras.utils import to_categorical\n",
    "from keras.layers import Dense, TimeDistributed, Dropout, Bidirectional, GRU, BatchNormalization, Activation, LeakyReLU, \\\n",
    "    LSTM, Flatten, RepeatVector, Permute, Multiply, Conv2D, MaxPooling2D"
   ]
  },
  {
   "cell_type": "code",
   "execution_count": 2,
   "id": "c88e42c7",
   "metadata": {},
   "outputs": [],
   "source": [
    "from __future__ import division, print_function\n",
    "import os\n",
    "import matplotlib.pyplot as plt\n",
    "import numpy as np\n",
    "from keras.utils import to_categorical\n",
    "\n",
    "#for loading and visualizing audio files\n",
    "import librosa\n",
    "import librosa.display\n",
    "\n",
    "#to play audio\n",
    "import IPython.display as ipd\n",
    "from os import listdir\n",
    "from os.path import isfile, join\n",
    "\n",
    "from matplotlib import pyplot as plt\n",
    "import scipy.io.wavfile as wav\n",
    "from tensorflow.keras.layers.experimental import preprocessing\n",
    "from tensorflow.keras import models\n",
    "from tensorflow.keras import layers"
   ]
  },
  {
   "cell_type": "code",
   "execution_count": 3,
   "id": "bb875fa6",
   "metadata": {},
   "outputs": [],
   "source": [
    "def audio_to_melSpec(path,pad_len):\n",
    "    # Load the wave file\n",
    "    y, sr = librosa.load(path)\n",
    "    #y = y[::2]\n",
    "    Y, _ = librosa.effects.trim(y)\n",
    "    pad2d = lambda a, i: a[:, 0: i] if a.shape[1] > i else np.hstack((a, np.zeros((a.shape[0],i - a.shape[1]))))\n",
    "\n",
    "    # Extract the MFCC's \n",
    "    #melSpec = librosa.feature.mfcc (np.asfortranarray(y), sr=sr, n_mfcc = pad_len)\n",
    "    melSpec = librosa.feature.melspectrogram(np.asfortranarray(Y), sr=sr, n_mels=pad_len)\n",
    "    #pad_width = pad_len - melSpec.shape[1]\n",
    "    melSpec = pad2d(melSpec,32)\n",
    "    # Pad the MFCCs to obtain a pad_width square image\n",
    "    #melSpec = np.pad(melSpec, pad_width=((0, 0), (0, pad_width)), mode='constant')\n",
    "    \n",
    "    return melSpec\n",
    "def dir_to_spectrogramMLP(audio_dir):\n",
    "    #labelDict = {\"zero\":0,\"one\":1,\"two\":2,\"three\":3,\"four\":4,\"five\":5,\"six\":6,\"seven\":7,\"eight\":8,\"nine\":9,\"ten\":10}\n",
    "    #labels = os.listdir(audio_dir)\n",
    "    specArr = []\n",
    "    iolabels = []\n",
    "    for f in os.listdir(audio_dir):\n",
    "        labelDir = audio_dir+f\n",
    "        \n",
    "        # Traversing all the files in the digit folder\n",
    "        #file_names = [f for f in listdir(labelDir) if isfile(join(labelDir, f)) and '.wav' in f]\n",
    "        labels = f.split('_')[0]\n",
    "        \n",
    "        # Padding the MFCCs to create 32x32 images from MFCCs\n",
    "        pad_len = 32\n",
    "        \n",
    "        # Calculating the MFCCs\n",
    "        if f.endswith('.wav'):\n",
    "            audio_path = labelDir \n",
    "            \n",
    "            # MFCCs of the audio file\n",
    "            melSpec = audio_to_melSpec(audio_path,pad_len)\n",
    "            specArr.append(melSpec)\n",
    "            \n",
    "            # Creating the labels for each audio file\n",
    "            iolabels.append(labels)\n",
    "            \n",
    "    return np.asarray(specArr),to_categorical(iolabels)"
   ]
  },
  {
   "cell_type": "code",
   "execution_count": 4,
   "id": "ae322ee8",
   "metadata": {},
   "outputs": [],
   "source": [
    "#dir_path = '/Users/Krutika/Downloads/asr/free-spoken-digit-dataset-master/train/'\n",
    "[X_train,Y_train]=dir_to_spectrogramMLP('/Users/Krutika/Downloads/asr/free-spoken-digit-dataset-master/record-training/')\n",
    "[X_valid,Y_valid]=dir_to_spectrogramMLP('/Users/Krutika/Downloads/asr/free-spoken-digit-dataset-master/record-valid/')\n",
    "[X_test,Y_test]=dir_to_spectrogramMLP('/Users/Krutika/Downloads/asr/free-spoken-digit-dataset-master/record-testing/')"
   ]
  },
  {
   "cell_type": "code",
   "execution_count": 5,
   "id": "c44e9839",
   "metadata": {},
   "outputs": [
    {
     "name": "stdout",
     "output_type": "stream",
     "text": [
      "Size of the training images: (2400, 32, 32, 1)\n",
      "Size of the valid images: (300, 32, 32, 1)\n"
     ]
    }
   ],
   "source": [
    "# Batch size for training\n",
    "batch_size = 64\n",
    "# Number of classifier classes\n",
    "num_classes = 10\n",
    "# Number od epochs for training\n",
    "#epochs = 40\n",
    "# Number of channels\n",
    "channels = 1\n",
    "# Model number\n",
    "#no = 3\n",
    "\n",
    "\n",
    "X_train = X_train.reshape((X_train.shape[0], X_train.shape[1], X_train.shape[2], channels))\n",
    "print(\"Size of the training images: \"+str(X_train.shape))\n",
    "\n",
    "\n",
    "X_valid = X_valid.reshape((X_valid.shape[0], X_valid.shape[1], X_valid.shape[2], channels))\n",
    "print(\"Size of the valid images: \"+str(X_valid.shape))\n",
    "\n",
    "# Shape of the input layer for CNN\n",
    "shapeInput = (X_train.shape[1], X_train.shape[2], channels)"
   ]
  },
  {
   "cell_type": "code",
   "execution_count": 6,
   "id": "a0533b29",
   "metadata": {},
   "outputs": [
    {
     "name": "stdout",
     "output_type": "stream",
     "text": [
      "Model: \"sequential\"\n",
      "_________________________________________________________________\n",
      "Layer (type)                 Output Shape              Param #   \n",
      "=================================================================\n",
      "conv2d (Conv2D)              (None, 30, 30, 32)        320       \n",
      "_________________________________________________________________\n",
      "batch_normalization (BatchNo (None, 30, 30, 32)        128       \n",
      "_________________________________________________________________\n",
      "conv2d_1 (Conv2D)            (None, 28, 28, 48)        13872     \n",
      "_________________________________________________________________\n",
      "batch_normalization_1 (Batch (None, 28, 28, 48)        192       \n",
      "_________________________________________________________________\n",
      "conv2d_2 (Conv2D)            (None, 26, 26, 120)       51960     \n",
      "_________________________________________________________________\n",
      "batch_normalization_2 (Batch (None, 26, 26, 120)       480       \n",
      "_________________________________________________________________\n",
      "max_pooling2d (MaxPooling2D) (None, 13, 13, 120)       0         \n",
      "_________________________________________________________________\n",
      "dropout (Dropout)            (None, 13, 13, 120)       0         \n",
      "_________________________________________________________________\n",
      "flatten (Flatten)            (None, 20280)             0         \n",
      "_________________________________________________________________\n",
      "dense (Dense)                (None, 128)               2595968   \n",
      "_________________________________________________________________\n",
      "batch_normalization_3 (Batch (None, 128)               512       \n",
      "_________________________________________________________________\n",
      "dropout_1 (Dropout)          (None, 128)               0         \n",
      "_________________________________________________________________\n",
      "dense_1 (Dense)              (None, 64)                8256      \n",
      "_________________________________________________________________\n",
      "batch_normalization_4 (Batch (None, 64)                256       \n",
      "_________________________________________________________________\n",
      "dropout_2 (Dropout)          (None, 64)                0         \n",
      "_________________________________________________________________\n",
      "dense_2 (Dense)              (None, 10)                650       \n",
      "=================================================================\n",
      "Total params: 2,672,594\n",
      "Trainable params: 2,671,810\n",
      "Non-trainable params: 784\n",
      "_________________________________________________________________\n"
     ]
    }
   ],
   "source": [
    "model =models.Sequential()\n",
    "preprocessing.Resizing(32, 32),\n",
    "model.add(Conv2D(32, kernel_size=3, activation='relu', input_shape=shapeInput))\n",
    "model.add(BatchNormalization())\n",
    "model.add(Conv2D(48, kernel_size=3, activation='relu'))\n",
    "model.add(BatchNormalization())\n",
    "model.add(Conv2D(120, kernel_size=3, activation='relu'))\n",
    "model.add(BatchNormalization())\n",
    "model.add(MaxPooling2D(pool_size=(2, 2)))\n",
    "model.add(Dropout(0.25))\n",
    "model.add(Flatten())\n",
    "model.add(Dense(128, activation='relu'))\n",
    "model.add(BatchNormalization())\n",
    "model.add(Dropout(0.25))\n",
    "model.add(Dense(64, activation='relu'))\n",
    "model.add(BatchNormalization())\n",
    "model.add(Dropout(0.5))\n",
    "model.add(Dense(num_classes, activation='softmax'))\n",
    "\n",
    "#Tensorflow model\n",
    "#norm_layer = preprocessing.Normalization()\n",
    "#norm_layer.adapt(spectrogram_ds.map(lambda x, _: x))\n",
    "\n",
    "#model = models.Sequential([\n",
    " #   layers.Input(shape=shapeInput),\n",
    "  #  preprocessing.Resizing(32, 32), \n",
    "   # norm_layer,\n",
    "   # layers.Conv2D(32, 3, activation='relu'),\n",
    "#    layers.Conv2D(64, 3, activation='relu'),\n",
    " #   layers.MaxPooling2D(),\n",
    "  #  layers.Dropout(0.25),\n",
    "   # layers.Flatten(),\n",
    "    #layers.Dense(128, activation='relu'),\n",
    "   #layers.Dropout(0.5),\n",
    "    #layers.Dense(num_classes),\n",
    "#])\n",
    "\n",
    "model.summary()"
   ]
  },
  {
   "cell_type": "code",
   "execution_count": 7,
   "id": "5a0007b0",
   "metadata": {},
   "outputs": [],
   "source": [
    "model.compile(loss='categorical_crossentropy',\n",
    "              optimizer='adam',\n",
    "              metrics=['accuracy'])\n",
    "import tensorflow as tf"
   ]
  },
  {
   "cell_type": "code",
   "execution_count": 18,
   "id": "71af4e37",
   "metadata": {},
   "outputs": [
    {
     "name": "stdout",
     "output_type": "stream",
     "text": [
      "Epoch 1/50\n",
      "75/75 [==============================] - 16s 207ms/step - loss: 0.0636 - accuracy: 0.9867 - val_loss: 0.2622 - val_accuracy: 0.8933\n",
      "Epoch 2/50\n",
      "75/75 [==============================] - 16s 211ms/step - loss: 0.0878 - accuracy: 0.9712 - val_loss: 0.7001 - val_accuracy: 0.7767\n",
      "Epoch 3/50\n",
      "75/75 [==============================] - 17s 223ms/step - loss: 0.0897 - accuracy: 0.9737 - val_loss: 0.3947 - val_accuracy: 0.8700\n",
      "Epoch 00003: early stopping\n"
     ]
    }
   ],
   "source": [
    "cp_callback = tf.keras.callbacks.EarlyStopping(verbose=1, patience=2)\n",
    "history = model.fit(X_train,\n",
    "          Y_train,\n",
    "          epochs=50,\n",
    "          validation_data=(X_valid, Y_valid),\n",
    "          callbacks=[cp_callback])"
   ]
  },
  {
   "cell_type": "code",
   "execution_count": 19,
   "id": "f09cb324",
   "metadata": {},
   "outputs": [
    {
     "name": "stdout",
     "output_type": "stream",
     "text": [
      "10/10 [==============================] - 0s 30ms/step - loss: 0.3182 - accuracy: 0.9267\n"
     ]
    }
   ],
   "source": [
    "X_test = X_test.reshape((X_test.shape[0], X_test.shape[1], X_test.shape[2], channels))\n",
    "\n",
    "test_loss, test_acc = model.evaluate(X_test, Y_test)"
   ]
  },
  {
   "cell_type": "code",
   "execution_count": 20,
   "id": "92ddd655",
   "metadata": {},
   "outputs": [
    {
     "name": "stdout",
     "output_type": "stream",
     "text": [
      "0.9266666769981384\n"
     ]
    }
   ],
   "source": [
    "print(test_acc)"
   ]
  },
  {
   "cell_type": "code",
   "execution_count": 25,
   "id": "a6f391fa",
   "metadata": {},
   "outputs": [
    {
     "data": {
      "image/png": "[encoded data removed]",
      "text/plain": [
       "<Figure size 432x288 with 1 Axes>"
      ]
     },
     "metadata": {
      "needs_background": "light"
     },
     "output_type": "display_data"
    },
    {
     "data": {
      "image/png": "[encoded data removed]",
      "text/plain": [
       "<Figure size 432x288 with 1 Axes>"
      ]
     },
     "metadata": {
      "needs_background": "light"
     },
     "output_type": "display_data"
    }
   ],
   "source": [
    "metrics = history.history\n",
    "plt.plot(history.epoch, metrics['accuracy'], metrics['val_accuracy'])\n",
    "plt.legend(['accuracy', 'val_accuracy'])\n",
    "plt.show()\n",
    "metrics = history.history\n",
    "plt.plot(history.epoch, metrics['loss'], metrics['val_loss'])\n",
    "plt.legend(['loss', 'val_loss'])\n",
    "plt.show()"
   ]
  },
  {
   "cell_type": "code",
   "execution_count": 24,
   "id": "fbaf534b",
   "metadata": {
    "scrolled": true
   },
   "outputs": [
    {
     "name": "stdout",
     "output_type": "stream",
     "text": [
      "              precision    recall  f1-score   support\n",
      "\n",
      "           0       0.97      1.00      0.98        30\n",
      "           1       0.93      0.93      0.93        30\n",
      "           2       1.00      0.97      0.98        30\n",
      "           3       0.96      0.90      0.93        30\n",
      "           4       1.00      0.83      0.91        30\n",
      "           5       0.97      1.00      0.98        30\n",
      "           6       0.68      1.00      0.81        30\n",
      "           7       0.94      0.97      0.95        30\n",
      "           8       1.00      0.80      0.89        30\n",
      "           9       0.96      0.87      0.91        30\n",
      "\n",
      "   micro avg       0.93      0.93      0.93       300\n",
      "   macro avg       0.94      0.93      0.93       300\n",
      "weighted avg       0.94      0.93      0.93       300\n",
      " samples avg       0.93      0.93      0.93       300\n",
      "\n"
     ]
    }
   ],
   "source": [
    "from sklearn.metrics import classification_report\n",
    "# Extracting the test data\n",
    "\n",
    "X_test = X_test.reshape((X_test.shape[0], X_test.shape[1], X_test.shape[2], channels))\n",
    "\n",
    "# Predicting the digits from model\n",
    "predictions = np.argmax(model.predict(X_test), axis=-1)\n",
    "\n",
    "# Comparing predictions for accuracy calculation\n",
    "reportPrediction = classification_report(Y_test, to_categorical(predictions))\n",
    "print(reportPrediction)"
   ]
  },
  {
   "cell_type": "code",
   "execution_count": null,
   "id": "4d98bbe0",
   "metadata": {},
   "outputs": [],
   "source": []
  }
 ],
 "metadata": {
  "kernelspec": {
   "display_name": "Python 3",
   "language": "python",
   "name": "python3"
  },
  "language_info": {
   "codemirror_mode": {
    "name": "ipython",
    "version": 3
   },
   "file_extension": ".py",
   "mimetype": "text/x-python",
   "name": "python",
   "nbconvert_exporter": "python",
   "pygments_lexer": "ipython3",
   "version": "3.8.8"
  }
 },
 "nbformat": 4,
 "nbformat_minor": 5
}
